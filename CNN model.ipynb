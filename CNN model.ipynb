{
 "cells": [
  {
   "cell_type": "code",
   "execution_count": 1,
   "metadata": {},
   "outputs": [
    {
     "name": "stderr",
     "output_type": "stream",
     "text": [
      "/anaconda2/lib/python2.7/site-packages/h5py/__init__.py:34: FutureWarning: Conversion of the second argument of issubdtype from `float` to `np.floating` is deprecated. In future, it will be treated as `np.float64 == np.dtype(float).type`.\n",
      "  from ._conv import register_converters as _register_converters\n",
      "Using TensorFlow backend.\n",
      "/anaconda2/lib/python2.7/site-packages/sklearn/cross_validation.py:41: DeprecationWarning: This module was deprecated in version 0.18 in favor of the model_selection module into which all the refactored classes and functions are moved. Also note that the interface of the new CV iterators are different from that of this module. This module will be removed in 0.20.\n",
      "  \"This module will be removed in 0.20.\", DeprecationWarning)\n"
     ]
    }
   ],
   "source": [
    "from keras.preprocessing.image import ImageDataGenerator\n",
    "from keras.models import Sequential,load_model,save_model\n",
    "from keras.layers import Convolution2D, MaxPooling2D\n",
    "from keras.layers import Activation, Dropout, Flatten, Dense\n",
    "from keras.callbacks import EarlyStopping\n",
    "#from logging import save_model, save_config, save_result\n",
    "from sklearn.cross_validation import train_test_split\n",
    "import numpy as np\n",
    "import time\n",
    "import sys"
   ]
  },
  {
   "cell_type": "code",
   "execution_count": 2,
   "metadata": {
    "collapsed": true
   },
   "outputs": [],
   "source": [
    "X_fname = 'X_train_privatetest6_100pct.npy'\n",
    "y_fname = 'y_train_privatetest6_100pct.npy'\n",
    "X_train = np.load(X_fname)\n",
    "y_train = np.load(y_fname)"
   ]
  },
  {
   "cell_type": "code",
   "execution_count": 3,
   "metadata": {},
   "outputs": [
    {
     "data": {
      "text/plain": [
       "(35887, 1, 48, 48)"
      ]
     },
     "execution_count": 3,
     "metadata": {},
     "output_type": "execute_result"
    }
   ],
   "source": [
    "X_train.shape"
   ]
  },
  {
   "cell_type": "code",
   "execution_count": 4,
   "metadata": {},
   "outputs": [
    {
     "data": {
      "text/plain": [
       "(35887, 6)"
      ]
     },
     "execution_count": 4,
     "metadata": {},
     "output_type": "execute_result"
    }
   ],
   "source": [
    "y_train.shape"
   ]
  },
  {
   "cell_type": "code",
   "execution_count": 5,
   "metadata": {
    "collapsed": true
   },
   "outputs": [],
   "source": [
    "X_train = X_train.astype('float32')"
   ]
  },
  {
   "cell_type": "code",
   "execution_count": 6,
   "metadata": {
    "collapsed": true
   },
   "outputs": [],
   "source": [
    "dropout=0.3\n",
    "batch_size=128\n",
    "nb_epoch=20\n",
    "validation_split=0.2"
   ]
  },
  {
   "cell_type": "code",
   "execution_count": 7,
   "metadata": {},
   "outputs": [
    {
     "name": "stderr",
     "output_type": "stream",
     "text": [
      "/anaconda2/lib/python2.7/site-packages/ipykernel_launcher.py:2: UserWarning: Update your `Conv2D` call to the Keras 2 API: `Conv2D(32, (3, 3), padding=\"same\", activation=\"relu\", input_shape=(1, 48, 48...)`\n",
      "  \n",
      "/anaconda2/lib/python2.7/site-packages/ipykernel_launcher.py:3: UserWarning: Update your `Conv2D` call to the Keras 2 API: `Conv2D(32, (3, 3), padding=\"same\", activation=\"relu\")`\n",
      "  This is separate from the ipykernel package so we can avoid doing imports until\n",
      "/anaconda2/lib/python2.7/site-packages/ipykernel_launcher.py:4: UserWarning: Update your `Conv2D` call to the Keras 2 API: `Conv2D(32, (3, 3), padding=\"same\", activation=\"relu\")`\n",
      "  after removing the cwd from sys.path.\n",
      "/anaconda2/lib/python2.7/site-packages/ipykernel_launcher.py:6: UserWarning: Update your `MaxPooling2D` call to the Keras 2 API: `MaxPooling2D(data_format=\"channels_first\", pool_size=(2, 2))`\n",
      "  \n",
      "/anaconda2/lib/python2.7/site-packages/ipykernel_launcher.py:8: UserWarning: Update your `Conv2D` call to the Keras 2 API: `Conv2D(64, (3, 3), padding=\"same\", activation=\"relu\")`\n",
      "  \n",
      "/anaconda2/lib/python2.7/site-packages/ipykernel_launcher.py:9: UserWarning: Update your `Conv2D` call to the Keras 2 API: `Conv2D(64, (3, 3), padding=\"same\", activation=\"relu\")`\n",
      "  if __name__ == '__main__':\n",
      "/anaconda2/lib/python2.7/site-packages/ipykernel_launcher.py:10: UserWarning: Update your `Conv2D` call to the Keras 2 API: `Conv2D(64, (3, 3), padding=\"same\", activation=\"relu\")`\n",
      "  # Remove the CWD from sys.path while we load stuff.\n",
      "/anaconda2/lib/python2.7/site-packages/ipykernel_launcher.py:12: UserWarning: Update your `MaxPooling2D` call to the Keras 2 API: `MaxPooling2D(data_format=\"channels_first\", pool_size=(2, 2))`\n",
      "  if sys.path[0] == '':\n",
      "/anaconda2/lib/python2.7/site-packages/ipykernel_launcher.py:14: UserWarning: Update your `Conv2D` call to the Keras 2 API: `Conv2D(128, (3, 3), padding=\"same\", activation=\"relu\")`\n",
      "  \n",
      "/anaconda2/lib/python2.7/site-packages/ipykernel_launcher.py:15: UserWarning: Update your `Conv2D` call to the Keras 2 API: `Conv2D(128, (3, 3), padding=\"same\", activation=\"relu\")`\n",
      "  from ipykernel import kernelapp as app\n",
      "/anaconda2/lib/python2.7/site-packages/ipykernel_launcher.py:16: UserWarning: Update your `Conv2D` call to the Keras 2 API: `Conv2D(128, (3, 3), padding=\"same\", activation=\"relu\")`\n",
      "  app.launch_new_instance()\n",
      "/anaconda2/lib/python2.7/site-packages/ipykernel_launcher.py:18: UserWarning: Update your `MaxPooling2D` call to the Keras 2 API: `MaxPooling2D(data_format=\"channels_first\", pool_size=(2, 2))`\n"
     ]
    }
   ],
   "source": [
    "model = Sequential()\n",
    "model.add(Convolution2D(32, 3, 3, border_mode='same', activation='relu',input_shape=(1, 48, 48)))\n",
    "model.add(Convolution2D(32, 3, 3, border_mode='same', activation='relu'))\n",
    "model.add(Convolution2D(32, 3, 3, border_mode='same', activation='relu'))\n",
    "\n",
    "model.add(MaxPooling2D(pool_size=(2, 2),dim_ordering=\"th\"))\n",
    "\n",
    "model.add(Convolution2D(64, 3, 3, border_mode='same', activation='relu'))\n",
    "model.add(Convolution2D(64, 3, 3, border_mode='same', activation='relu'))\n",
    "model.add(Convolution2D(64, 3, 3, border_mode='same', activation='relu'))\n",
    "\n",
    "model.add(MaxPooling2D(pool_size=(2, 2),dim_ordering=\"th\"))\n",
    "\n",
    "model.add(Convolution2D(128, 3, 3, border_mode='same', activation='relu'))\n",
    "model.add(Convolution2D(128, 3, 3, border_mode='same', activation='relu'))\n",
    "model.add(Convolution2D(128, 3, 3, border_mode='same', activation='relu'))\n",
    "\n",
    "model.add(MaxPooling2D(pool_size=(2, 2),dim_ordering=\"th\"))\n"
   ]
  },
  {
   "cell_type": "code",
   "execution_count": 8,
   "metadata": {},
   "outputs": [],
   "source": [
    "model.add(Flatten())\n",
    "model.add(Dense(128, activation='relu'))\n",
    "model.add(Dropout(0.3))\n",
    "model.add(Dense(y_train.shape[1], activation='softmax'))"
   ]
  },
  {
   "cell_type": "code",
   "execution_count": 9,
   "metadata": {
    "collapsed": true
   },
   "outputs": [],
   "source": [
    "model.compile(loss='categorical_crossentropy', optimizer='adam', metrics=['accuracy'])"
   ]
  },
  {
   "cell_type": "code",
   "execution_count": 10,
   "metadata": {
    "collapsed": true
   },
   "outputs": [],
   "source": [
    "earlystop = EarlyStopping(monitor='val_acc', min_delta=0.0001, patience=5, verbose=1, mode='auto')\n",
    "callbacks_list = [earlystop]"
   ]
  },
  {
   "cell_type": "code",
   "execution_count": 11,
   "metadata": {},
   "outputs": [
    {
     "name": "stderr",
     "output_type": "stream",
     "text": [
      "/anaconda2/lib/python2.7/site-packages/keras/models.py:942: UserWarning: The `nb_epoch` argument in `fit` has been renamed `epochs`.\n",
      "  warnings.warn('The `nb_epoch` argument in `fit` '\n"
     ]
    },
    {
     "name": "stdout",
     "output_type": "stream",
     "text": [
      "Train on 28709 samples, validate on 7178 samples\n",
      "Epoch 1/20\n",
      "28709/28709 [==============================] - 38s 1ms/step - loss: 1.7350 - acc: 0.2662 - val_loss: 1.6671 - val_acc: 0.3239\n",
      "Epoch 2/20\n",
      "28709/28709 [==============================] - 39s 1ms/step - loss: 1.6355 - acc: 0.3355 - val_loss: 1.5899 - val_acc: 0.3566\n",
      "Epoch 3/20\n",
      "28709/28709 [==============================] - 38s 1ms/step - loss: 1.5813 - acc: 0.3653 - val_loss: 1.5185 - val_acc: 0.3961\n",
      "Epoch 4/20\n",
      "28709/28709 [==============================] - 38s 1ms/step - loss: 1.5408 - acc: 0.3869 - val_loss: 1.4967 - val_acc: 0.4090\n",
      "Epoch 5/20\n",
      "28709/28709 [==============================] - 38s 1ms/step - loss: 1.5109 - acc: 0.4003 - val_loss: 1.4729 - val_acc: 0.4097\n",
      "Epoch 6/20\n",
      "28709/28709 [==============================] - 43s 1ms/step - loss: 1.4911 - acc: 0.4058 - val_loss: 1.4875 - val_acc: 0.4039\n",
      "Epoch 7/20\n",
      "28709/28709 [==============================] - 42s 1ms/step - loss: 1.4596 - acc: 0.4189 - val_loss: 1.4404 - val_acc: 0.4221\n",
      "Epoch 8/20\n",
      "28709/28709 [==============================] - 42s 1ms/step - loss: 1.4452 - acc: 0.4277 - val_loss: 1.4396 - val_acc: 0.4211\n",
      "Epoch 9/20\n",
      "28709/28709 [==============================] - 40s 1ms/step - loss: 1.4243 - acc: 0.4369 - val_loss: 1.4428 - val_acc: 0.4168\n",
      "Epoch 10/20\n",
      "28709/28709 [==============================] - 39s 1ms/step - loss: 1.4049 - acc: 0.4442 - val_loss: 1.4244 - val_acc: 0.4319\n",
      "Epoch 11/20\n",
      "28709/28709 [==============================] - 41s 1ms/step - loss: 1.3872 - acc: 0.4500 - val_loss: 1.4328 - val_acc: 0.4198\n",
      "Epoch 12/20\n",
      "28709/28709 [==============================] - 43s 1ms/step - loss: 1.3613 - acc: 0.4629 - val_loss: 1.4206 - val_acc: 0.4352\n",
      "Epoch 13/20\n",
      "28709/28709 [==============================] - 43s 1ms/step - loss: 1.3419 - acc: 0.4723 - val_loss: 1.4096 - val_acc: 0.4413\n",
      "Epoch 14/20\n",
      "28709/28709 [==============================] - 43s 1ms/step - loss: 1.3157 - acc: 0.4799 - val_loss: 1.4073 - val_acc: 0.4379\n",
      "Epoch 15/20\n",
      "28709/28709 [==============================] - 43s 2ms/step - loss: 1.3064 - acc: 0.4852 - val_loss: 1.4047 - val_acc: 0.4374\n",
      "Epoch 16/20\n",
      "28709/28709 [==============================] - 43s 1ms/step - loss: 1.2712 - acc: 0.5004 - val_loss: 1.4130 - val_acc: 0.4405\n",
      "Epoch 17/20\n",
      "28709/28709 [==============================] - 43s 2ms/step - loss: 1.2538 - acc: 0.5093 - val_loss: 1.3989 - val_acc: 0.4454\n",
      "Epoch 18/20\n",
      "28709/28709 [==============================] - 42s 1ms/step - loss: 1.2305 - acc: 0.5159 - val_loss: 1.4682 - val_acc: 0.4432\n",
      "Epoch 19/20\n",
      "28709/28709 [==============================] - 41s 1ms/step - loss: 1.2043 - acc: 0.5275 - val_loss: 1.4405 - val_acc: 0.4497\n",
      "Epoch 20/20\n",
      "28709/28709 [==============================] - 41s 1ms/step - loss: 1.1860 - acc: 0.5359 - val_loss: 1.4290 - val_acc: 0.4512\n"
     ]
    }
   ],
   "source": [
    "hist = model.fit(X_train, y_train, nb_epoch=nb_epoch, batch_size=batch_size,validation_split=validation_split, callbacks=callbacks_list, shuffle=True, verbose=1)"
   ]
  },
  {
   "cell_type": "code",
   "execution_count": 12,
   "metadata": {},
   "outputs": [
    {
     "name": "stdout",
     "output_type": "stream",
     "text": [
      "          Done!\n",
      "     Train acc:  0.5359294994289572\n",
      "Validation acc:  0.4512398996935079\n",
      " Overfit ratio:  0.841976230407754\n"
     ]
    }
   ],
   "source": [
    "train_val_accuracy = hist.history\n",
    "train_acc = train_val_accuracy['acc']\n",
    "val_acc = train_val_accuracy['val_acc']\n",
    "print '          Done!'\n",
    "print '     Train acc: ', train_acc[-1]\n",
    "print 'Validation acc: ', val_acc[-1]\n",
    "print ' Overfit ratio: ', val_acc[-1]/train_acc[-1]"
   ]
  },
  {
   "cell_type": "code",
   "execution_count": 14,
   "metadata": {
    "collapsed": true
   },
   "outputs": [],
   "source": [
    "model.save('my_model.h5')"
   ]
  },
  {
   "cell_type": "code",
   "execution_count": null,
   "metadata": {
    "collapsed": true
   },
   "outputs": [],
   "source": []
  }
 ],
 "metadata": {
  "kernelspec": {
   "display_name": "Python 2",
   "language": "python",
   "name": "python2"
  },
  "language_info": {
   "codemirror_mode": {
    "name": "ipython",
    "version": 2
   },
   "file_extension": ".py",
   "mimetype": "text/x-python",
   "name": "python",
   "nbconvert_exporter": "python",
   "pygments_lexer": "ipython2",
   "version": "2.7.14"
  }
 },
 "nbformat": 4,
 "nbformat_minor": 2
}

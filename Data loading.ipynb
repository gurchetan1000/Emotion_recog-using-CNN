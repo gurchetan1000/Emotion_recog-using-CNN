{
 "cells": [
  {
   "cell_type": "code",
   "execution_count": 1,
   "metadata": {},
   "outputs": [
    {
     "name": "stderr",
     "output_type": "stream",
     "text": [
      "/anaconda2/lib/python2.7/site-packages/h5py/__init__.py:34: FutureWarning: Conversion of the second argument of issubdtype from `float` to `np.floating` is deprecated. In future, it will be treated as `np.float64 == np.dtype(float).type`.\n",
      "  from ._conv import register_converters as _register_converters\n",
      "Using TensorFlow backend.\n"
     ]
    }
   ],
   "source": [
    "from keras.utils.np_utils import to_categorical\n",
    "import pandas as pd\n",
    "import numpy as np\n",
    "import random\n",
    "import sys"
   ]
  },
  {
   "cell_type": "code",
   "execution_count": 2,
   "metadata": {
    "collapsed": true
   },
   "outputs": [],
   "source": [
    "# fer2013 dataset:\n",
    "# Training       28709\n",
    "# PrivateTest     3589\n",
    "# PublicTest      3589"
   ]
  },
  {
   "cell_type": "code",
   "execution_count": 3,
   "metadata": {
    "collapsed": true
   },
   "outputs": [],
   "source": [
    "# emotion labels from FER2013:\n",
    "emotion = {'Angry': 0, 'Disgust': 1, 'Fear': 2, 'Happy': 3,\n",
    "           'Sad': 4, 'Surprise': 5, 'Neutral': 6}\n",
    "emo     = ['Angry', 'Fear', 'Happy',\n",
    "           'Sad', 'Surprise', 'Neutral']"
   ]
  },
  {
   "cell_type": "code",
   "execution_count": 4,
   "metadata": {
    "collapsed": true
   },
   "outputs": [],
   "source": [
    "def reconstruct(pix_str, size=(48,48)):\n",
    "    pix_arr = np.array(map(int, pix_str.split()))\n",
    "    return pix_arr.reshape(size)"
   ]
  },
  {
   "cell_type": "code",
   "execution_count": 5,
   "metadata": {
    "collapsed": true
   },
   "outputs": [],
   "source": [
    "def emotion_count(y_train, classes, verbose=True):\n",
    "    emo_classcount = {}\n",
    "    print 'Disgust classified as Angry'\n",
    "    y_train.loc[y_train == 1] = 0\n",
    "    classes.remove('Disgust')\n",
    "    for new_num, _class in enumerate(classes):\n",
    "        y_train.loc[(y_train == emotion[_class])] = new_num\n",
    "        class_count = sum(y_train == (new_num))\n",
    "        if verbose:\n",
    "            print '{}: {} with {} samples'.format(new_num, _class, class_count)\n",
    "        emo_classcount[_class] = (new_num, class_count)\n",
    "    return y_train.values, emo_classcount"
   ]
  },
  {
   "cell_type": "code",
   "execution_count": 6,
   "metadata": {
    "collapsed": true
   },
   "outputs": [],
   "source": [
    "def load_data(sample_split=0.3, usage='Training', to_cat=True, verbose=True,\n",
    "              classes=['Angry','Happy'], filepath='fer2013.csv'):\n",
    "    df = pd.read_csv(filepath)\n",
    "    # print df.tail()\n",
    "    # print df.Usage.value_counts()\n",
    "    df = df[df.Usage == usage]\n",
    "    frames = []\n",
    "    classes.append('Disgust')\n",
    "    for _class in classes:\n",
    "        class_df = df[df['emotion'] == emotion[_class]]\n",
    "        frames.append(class_df)\n",
    "    data = pd.concat(frames, axis=0)\n",
    "    rows = random.sample(data.index, int(len(data)*sample_split))\n",
    "    data = data.ix[rows]\n",
    "    print '{} set for {}: {}'.format(usage, classes, data.shape)\n",
    "    data['pixels'] = data.pixels.apply(lambda x: reconstruct(x))\n",
    "    x = np.array([mat for mat in data.pixels]) # (n_samples, img_width, img_height)\n",
    "    X_train = x.reshape(-1, 1, x.shape[1], x.shape[2])\n",
    "    y_train, new_dict = emotion_count(data.emotion, classes, verbose)\n",
    "    print new_dict\n",
    "    if to_cat:\n",
    "        y_train = to_categorical(y_train)\n",
    "    return X_train, y_train, new_dict"
   ]
  },
  {
   "cell_type": "code",
   "execution_count": 7,
   "metadata": {
    "collapsed": true
   },
   "outputs": [],
   "source": [
    "def save_data(X_train, y_train, fname='', folder=''):\n",
    "    np.save(folder + 'X_train' + fname, X_train)\n",
    "    np.save(folder + 'y_train' + fname, y_train)"
   ]
  },
  {
   "cell_type": "code",
   "execution_count": 8,
   "metadata": {},
   "outputs": [
    {
     "name": "stdout",
     "output_type": "stream",
     "text": [
      "Making moves...\n"
     ]
    },
    {
     "name": "stderr",
     "output_type": "stream",
     "text": [
      "/anaconda2/lib/python2.7/site-packages/ipykernel_launcher.py:14: DeprecationWarning: \n",
      ".ix is deprecated. Please use\n",
      ".loc for label based indexing or\n",
      ".iloc for positional indexing\n",
      "\n",
      "See the documentation here:\n",
      "http://pandas.pydata.org/pandas-docs/stable/indexing.html#ix-indexer-is-deprecated\n",
      "  \n"
     ]
    },
    {
     "name": "stdout",
     "output_type": "stream",
     "text": [
      "Training set for ['Angry', 'Fear', 'Happy', 'Sad', 'Surprise', 'Neutral', 'Disgust']: (35887, 3)\n",
      "Disgust classified as Angry\n",
      "0: Angry with 5500 samples\n",
      "1: Fear with 5121 samples\n",
      "2: Happy with 8989 samples\n"
     ]
    },
    {
     "name": "stderr",
     "output_type": "stream",
     "text": [
      "/anaconda2/lib/python2.7/site-packages/pandas/core/indexing.py:194: SettingWithCopyWarning: \n",
      "A value is trying to be set on a copy of a slice from a DataFrame\n",
      "\n",
      "See the caveats in the documentation: http://pandas.pydata.org/pandas-docs/stable/indexing.html#indexing-view-versus-copy\n",
      "  self._setitem_with_indexer(indexer, value)\n"
     ]
    },
    {
     "name": "stdout",
     "output_type": "stream",
     "text": [
      "3: Sad with 6077 samples\n",
      "4: Surprise with 4002 samples\n",
      "5: Neutral with 6198 samples\n",
      "{'Angry': (0, 5500), 'Sad': (3, 6077), 'Neutral': (5, 6198), 'Surprise': (4, 4002), 'Fear': (1, 5121), 'Happy': (2, 8989)}\n",
      "Saving...\n",
      "(35887, 1, 48, 48)\n",
      "(35887, 6)\n",
      "Done!\n"
     ]
    }
   ],
   "source": [
    "if __name__ == '__main__':\n",
    "    # makes the numpy arrays ready to use:\n",
    "    print 'Making moves...'\n",
    "    emo = ['Angry', 'Fear', 'Happy',\n",
    "           'Sad', 'Surprise', 'Neutral']\n",
    "    X_train, y_train, emo_dict = load_data(sample_split=1.0,\n",
    "                                           classes=emo,\n",
    "                                           verbose=True)\n",
    "    print 'Saving...'\n",
    "    save_data(X_train, y_train, fname='_privatetest6_100pct')\n",
    "    print X_train.shape\n",
    "    print y_train.shape\n",
    "    print 'Done!'"
   ]
  },
  {
   "cell_type": "code",
   "execution_count": null,
   "metadata": {
    "collapsed": true
   },
   "outputs": [],
   "source": []
  }
 ],
 "metadata": {
  "kernelspec": {
   "display_name": "Python 2",
   "language": "python",
   "name": "python2"
  },
  "language_info": {
   "codemirror_mode": {
    "name": "ipython",
    "version": 2
   },
   "file_extension": ".py",
   "mimetype": "text/x-python",
   "name": "python",
   "nbconvert_exporter": "python",
   "pygments_lexer": "ipython2",
   "version": "2.7.14"
  }
 },
 "nbformat": 4,
 "nbformat_minor": 2
}
